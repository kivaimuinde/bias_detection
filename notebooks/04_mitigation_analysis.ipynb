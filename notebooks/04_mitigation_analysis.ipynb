{
 "cells": [
  {
   "cell_type": "code",
   "execution_count": null,
   "id": "f1fb83ae",
   "metadata": {},
   "outputs": [],
   "source": [
    "# 📚 General libraries\n",
    "import pandas as pd\n",
    "import numpy as np\n",
    "import matplotlib.pyplot as plt\n",
    "import seaborn as sns\n",
    "\n",
    "# 🔍 Model loading\n",
    "import pickle\n",
    "\n",
    "# 📉 Metrics\n",
    "from sklearn.metrics import precision_recall_curve, average_precision_score, classification_report\n",
    "from sklearn.metrics import ConfusionMatrixDisplay, confusion_matrix\n",
    "\n",
    "# 🔬 SHAP\n",
    "import shap\n",
    "\n",
    "# 🧮 Fairness\n",
    "from fairlearn.metrics import MetricFrame, selection_rate, false_positive_rate, false_negative_rate, accuracy_score\n",
    "from fairlearn.postprocessing import ThresholdOptimizer\n",
    "\n",
    "# Plotting style\n",
    "sns.set(style=\"whitegrid\")\n"
   ]
  }
 ],
 "metadata": {
  "kernelspec": {
   "display_name": ".venv",
   "language": "python",
   "name": "python3"
  },
  "language_info": {
   "name": "python",
   "version": "3.12.3"
  }
 },
 "nbformat": 4,
 "nbformat_minor": 5
}
