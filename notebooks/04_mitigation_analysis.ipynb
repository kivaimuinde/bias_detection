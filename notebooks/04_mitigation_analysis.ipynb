{
 "cells": [
  {
   "cell_type": "code",
   "execution_count": 1,
   "id": "f1fb83ae",
   "metadata": {},
   "outputs": [
    {
     "name": "stderr",
     "output_type": "stream",
     "text": [
      "/home/softnut/Desktop/portfolio/bias_detection/.venv/lib/python3.12/site-packages/tqdm/auto.py:21: TqdmWarning: IProgress not found. Please update jupyter and ipywidgets. See https://ipywidgets.readthedocs.io/en/stable/user_install.html\n",
      "  from .autonotebook import tqdm as notebook_tqdm\n"
     ]
    },
    {
     "ename": "ImportError",
     "evalue": "cannot import name 'accuracy_score' from 'fairlearn.metrics' (/home/softnut/Desktop/portfolio/bias_detection/.venv/lib/python3.12/site-packages/fairlearn/metrics/__init__.py)",
     "output_type": "error",
     "traceback": [
      "\u001b[31m---------------------------------------------------------------------------\u001b[39m",
      "\u001b[31mImportError\u001b[39m                               Traceback (most recent call last)",
      "\u001b[36mCell\u001b[39m\u001b[36m \u001b[39m\u001b[32mIn[1]\u001b[39m\u001b[32m, line 18\u001b[39m\n\u001b[32m     15\u001b[39m \u001b[38;5;28;01mimport\u001b[39;00m\u001b[38;5;250m \u001b[39m\u001b[34;01mshap\u001b[39;00m\n\u001b[32m     17\u001b[39m \u001b[38;5;66;03m# 🧮 Fairness\u001b[39;00m\n\u001b[32m---> \u001b[39m\u001b[32m18\u001b[39m \u001b[38;5;28;01mfrom\u001b[39;00m\u001b[38;5;250m \u001b[39m\u001b[34;01mfairlearn\u001b[39;00m\u001b[34;01m.\u001b[39;00m\u001b[34;01mmetrics\u001b[39;00m\u001b[38;5;250m \u001b[39m\u001b[38;5;28;01mimport\u001b[39;00m MetricFrame, selection_rate, false_positive_rate, false_negative_rate, accuracy_score\n\u001b[32m     19\u001b[39m \u001b[38;5;28;01mfrom\u001b[39;00m\u001b[38;5;250m \u001b[39m\u001b[34;01mfairlearn\u001b[39;00m\u001b[34;01m.\u001b[39;00m\u001b[34;01mpostprocessing\u001b[39;00m\u001b[38;5;250m \u001b[39m\u001b[38;5;28;01mimport\u001b[39;00m ThresholdOptimizer\n\u001b[32m     21\u001b[39m \u001b[38;5;66;03m# Plotting style\u001b[39;00m\n",
      "\u001b[31mImportError\u001b[39m: cannot import name 'accuracy_score' from 'fairlearn.metrics' (/home/softnut/Desktop/portfolio/bias_detection/.venv/lib/python3.12/site-packages/fairlearn/metrics/__init__.py)"
     ]
    }
   ],
   "source": [
    "# 📚 General libraries\n",
    "import pandas as pd\n",
    "import numpy as np\n",
    "import matplotlib.pyplot as plt\n",
    "import seaborn as sns\n",
    "\n",
    "# 🔍 Model loading\n",
    "import pickle\n",
    "\n",
    "# 📉 Metrics\n",
    "from sklearn.metrics import precision_recall_curve, average_precision_score, classification_report\n",
    "from sklearn.metrics import ConfusionMatrixDisplay, confusion_matrix\n",
    "\n",
    "# 🔬 SHAP\n",
    "import shap\n",
    "\n",
    "# 🧮 Fairness\n",
    "from fairlearn.metrics import MetricFrame, selection_rate, false_positive_rate, false_negative_rate, accuracy_score\n",
    "from fairlearn.postprocessing import ThresholdOptimizer\n",
    "\n",
    "# Plotting style\n",
    "sns.set(style=\"whitegrid\")\n"
   ]
  }
 ],
 "metadata": {
  "kernelspec": {
   "display_name": ".venv",
   "language": "python",
   "name": "python3"
  },
  "language_info": {
   "name": "python",
   "version": "3.12.3"
  }
 },
 "nbformat": 4,
 "nbformat_minor": 5
}
