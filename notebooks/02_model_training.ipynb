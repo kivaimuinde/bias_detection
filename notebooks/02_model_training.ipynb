{
 "cells": [
  {
   "cell_type": "markdown",
   "id": "a0940bbc",
   "metadata": {},
   "source": [
    "# 🤖 Notebook 2: Model Training and Evaluation\n",
    "This notebook trains baseline machine learning models and evaluates them for performance metrics. It uses the cleaned dataset from Notebook 1."
   ]
  },
  {
   "cell_type": "markdown",
   "id": "b137fbe9",
   "metadata": {},
   "source": [
    "### 📦 Import Libraries"
   ]
  },
  {
   "cell_type": "code",
   "execution_count": 11,
   "id": "13540993",
   "metadata": {},
   "outputs": [],
   "source": [
    "# 📦 Import Libraries\n",
    "import pandas as pd\n",
    "import numpy as np\n",
    "from sklearn.model_selection import train_test_split\n",
    "from sklearn.preprocessing import StandardScaler\n",
    "from sklearn.linear_model import LogisticRegression\n",
    "from sklearn.ensemble import RandomForestClassifier\n",
    "from xgboost import XGBClassifier\n",
    "from sklearn.metrics import classification_report, confusion_matrix, accuracy_score, roc_auc_score\n",
    "import matplotlib.pyplot as plt\n",
    "import seaborn as sns"
   ]
  },
  {
   "cell_type": "markdown",
   "id": "ad172830",
   "metadata": {},
   "source": [
    "### 📁 Load Cleaned Dataset"
   ]
  },
  {
   "cell_type": "code",
   "execution_count": 12,
   "id": "91a74d26",
   "metadata": {},
   "outputs": [
    {
     "data": {
      "text/html": [
       "<div>\n",
       "<style scoped>\n",
       "    .dataframe tbody tr th:only-of-type {\n",
       "        vertical-align: middle;\n",
       "    }\n",
       "\n",
       "    .dataframe tbody tr th {\n",
       "        vertical-align: top;\n",
       "    }\n",
       "\n",
       "    .dataframe thead th {\n",
       "        text-align: right;\n",
       "    }\n",
       "</style>\n",
       "<table border=\"1\" class=\"dataframe\">\n",
       "  <thead>\n",
       "    <tr style=\"text-align: right;\">\n",
       "      <th></th>\n",
       "      <th>Age</th>\n",
       "      <th>Sex</th>\n",
       "      <th>Job</th>\n",
       "      <th>Credit amount</th>\n",
       "      <th>Duration</th>\n",
       "      <th>Housing_own</th>\n",
       "      <th>Housing_rent</th>\n",
       "      <th>Saving accounts_moderate</th>\n",
       "      <th>Saving accounts_quite rich</th>\n",
       "      <th>Saving accounts_rich</th>\n",
       "      <th>Checking account_moderate</th>\n",
       "      <th>Checking account_rich</th>\n",
       "      <th>Purpose_car</th>\n",
       "      <th>Purpose_domestic appliances</th>\n",
       "      <th>Purpose_education</th>\n",
       "      <th>Purpose_furniture/equipment</th>\n",
       "      <th>Purpose_radio/TV</th>\n",
       "      <th>Purpose_repairs</th>\n",
       "      <th>Purpose_vacation/others</th>\n",
       "      <th>Risk_good</th>\n",
       "    </tr>\n",
       "  </thead>\n",
       "  <tbody>\n",
       "    <tr>\n",
       "      <th>0</th>\n",
       "      <td>22</td>\n",
       "      <td>0</td>\n",
       "      <td>2</td>\n",
       "      <td>5951</td>\n",
       "      <td>48</td>\n",
       "      <td>True</td>\n",
       "      <td>False</td>\n",
       "      <td>False</td>\n",
       "      <td>False</td>\n",
       "      <td>False</td>\n",
       "      <td>True</td>\n",
       "      <td>False</td>\n",
       "      <td>False</td>\n",
       "      <td>False</td>\n",
       "      <td>False</td>\n",
       "      <td>False</td>\n",
       "      <td>True</td>\n",
       "      <td>False</td>\n",
       "      <td>False</td>\n",
       "      <td>False</td>\n",
       "    </tr>\n",
       "    <tr>\n",
       "      <th>1</th>\n",
       "      <td>45</td>\n",
       "      <td>1</td>\n",
       "      <td>2</td>\n",
       "      <td>7882</td>\n",
       "      <td>42</td>\n",
       "      <td>False</td>\n",
       "      <td>False</td>\n",
       "      <td>False</td>\n",
       "      <td>False</td>\n",
       "      <td>False</td>\n",
       "      <td>False</td>\n",
       "      <td>False</td>\n",
       "      <td>False</td>\n",
       "      <td>False</td>\n",
       "      <td>False</td>\n",
       "      <td>True</td>\n",
       "      <td>False</td>\n",
       "      <td>False</td>\n",
       "      <td>False</td>\n",
       "      <td>True</td>\n",
       "    </tr>\n",
       "    <tr>\n",
       "      <th>2</th>\n",
       "      <td>53</td>\n",
       "      <td>1</td>\n",
       "      <td>2</td>\n",
       "      <td>4870</td>\n",
       "      <td>24</td>\n",
       "      <td>False</td>\n",
       "      <td>False</td>\n",
       "      <td>False</td>\n",
       "      <td>False</td>\n",
       "      <td>False</td>\n",
       "      <td>False</td>\n",
       "      <td>False</td>\n",
       "      <td>True</td>\n",
       "      <td>False</td>\n",
       "      <td>False</td>\n",
       "      <td>False</td>\n",
       "      <td>False</td>\n",
       "      <td>False</td>\n",
       "      <td>False</td>\n",
       "      <td>False</td>\n",
       "    </tr>\n",
       "    <tr>\n",
       "      <th>3</th>\n",
       "      <td>35</td>\n",
       "      <td>1</td>\n",
       "      <td>3</td>\n",
       "      <td>6948</td>\n",
       "      <td>36</td>\n",
       "      <td>False</td>\n",
       "      <td>True</td>\n",
       "      <td>False</td>\n",
       "      <td>False</td>\n",
       "      <td>False</td>\n",
       "      <td>True</td>\n",
       "      <td>False</td>\n",
       "      <td>True</td>\n",
       "      <td>False</td>\n",
       "      <td>False</td>\n",
       "      <td>False</td>\n",
       "      <td>False</td>\n",
       "      <td>False</td>\n",
       "      <td>False</td>\n",
       "      <td>True</td>\n",
       "    </tr>\n",
       "    <tr>\n",
       "      <th>4</th>\n",
       "      <td>28</td>\n",
       "      <td>1</td>\n",
       "      <td>3</td>\n",
       "      <td>5234</td>\n",
       "      <td>30</td>\n",
       "      <td>True</td>\n",
       "      <td>False</td>\n",
       "      <td>False</td>\n",
       "      <td>False</td>\n",
       "      <td>False</td>\n",
       "      <td>True</td>\n",
       "      <td>False</td>\n",
       "      <td>True</td>\n",
       "      <td>False</td>\n",
       "      <td>False</td>\n",
       "      <td>False</td>\n",
       "      <td>False</td>\n",
       "      <td>False</td>\n",
       "      <td>False</td>\n",
       "      <td>False</td>\n",
       "    </tr>\n",
       "  </tbody>\n",
       "</table>\n",
       "</div>"
      ],
      "text/plain": [
       "   Age  Sex  Job  Credit amount  Duration  Housing_own  Housing_rent  \\\n",
       "0   22    0    2           5951        48         True         False   \n",
       "1   45    1    2           7882        42        False         False   \n",
       "2   53    1    2           4870        24        False         False   \n",
       "3   35    1    3           6948        36        False          True   \n",
       "4   28    1    3           5234        30         True         False   \n",
       "\n",
       "   Saving accounts_moderate  Saving accounts_quite rich  Saving accounts_rich  \\\n",
       "0                     False                       False                 False   \n",
       "1                     False                       False                 False   \n",
       "2                     False                       False                 False   \n",
       "3                     False                       False                 False   \n",
       "4                     False                       False                 False   \n",
       "\n",
       "   Checking account_moderate  Checking account_rich  Purpose_car  \\\n",
       "0                       True                  False        False   \n",
       "1                      False                  False        False   \n",
       "2                      False                  False         True   \n",
       "3                       True                  False         True   \n",
       "4                       True                  False         True   \n",
       "\n",
       "   Purpose_domestic appliances  Purpose_education  \\\n",
       "0                        False              False   \n",
       "1                        False              False   \n",
       "2                        False              False   \n",
       "3                        False              False   \n",
       "4                        False              False   \n",
       "\n",
       "   Purpose_furniture/equipment  Purpose_radio/TV  Purpose_repairs  \\\n",
       "0                        False              True            False   \n",
       "1                         True             False            False   \n",
       "2                        False             False            False   \n",
       "3                        False             False            False   \n",
       "4                        False             False            False   \n",
       "\n",
       "   Purpose_vacation/others  Risk_good  \n",
       "0                    False      False  \n",
       "1                    False       True  \n",
       "2                    False      False  \n",
       "3                    False       True  \n",
       "4                    False      False  "
      ]
     },
     "execution_count": 12,
     "metadata": {},
     "output_type": "execute_result"
    }
   ],
   "source": [
    "# 📁 Load Cleaned Dataset\n",
    "df = pd.read_csv('cleaned_credit_data.csv')\n",
    "df.head()"
   ]
  },
  {
   "cell_type": "markdown",
   "id": "f6659cdb",
   "metadata": {},
   "source": [
    "### 🎯 Split Features and Target"
   ]
  },
  {
   "cell_type": "code",
   "execution_count": 13,
   "id": "2201a8b4",
   "metadata": {},
   "outputs": [],
   "source": [
    "# 🎯 Split Features and Target\n",
    "# Adjust 'Risk' column if it has different values\n",
    "X = df.drop('Risk_good', axis=1)\n",
    "y = df['Risk_good'].astype(int)\n",
    "\n",
    "# Train-test split\n",
    "X_train, X_test, y_train, y_test = train_test_split(X, y, test_size=0.2, random_state=42)"
   ]
  },
  {
   "cell_type": "markdown",
   "id": "cb35b5b9",
   "metadata": {},
   "source": [
    "### 🔄 Feature Scaling"
   ]
  },
  {
   "cell_type": "code",
   "execution_count": 14,
   "id": "ebb086a0",
   "metadata": {},
   "outputs": [],
   "source": [
    "# 🔄 Feature Scaling\n",
    "scaler = StandardScaler()\n",
    "X_train_scaled = scaler.fit_transform(X_train)\n",
    "X_test_scaled = scaler.transform(X_test)"
   ]
  },
  {
   "cell_type": "markdown",
   "id": "c497d0d1",
   "metadata": {},
   "source": [
    "### 🤖 Train Logistic Regression"
   ]
  },
  {
   "cell_type": "code",
   "execution_count": 15,
   "id": "b0046481",
   "metadata": {},
   "outputs": [],
   "source": [
    "# 🤖 Train Logistic Regression\n",
    "lr = LogisticRegression()\n",
    "lr.fit(X_train_scaled, y_train)\n",
    "y_pred_lr = lr.predict(X_test_scaled)"
   ]
  },
  {
   "cell_type": "markdown",
   "id": "b2626cf4",
   "metadata": {},
   "source": [
    "### 🌲 Train Random Forest"
   ]
  },
  {
   "cell_type": "code",
   "execution_count": 16,
   "id": "0c40663f",
   "metadata": {},
   "outputs": [],
   "source": [
    "# 🌲 Train Random Forest\n",
    "rf = RandomForestClassifier(random_state=42)\n",
    "rf.fit(X_train, y_train)\n",
    "y_pred_rf = rf.predict(X_test)"
   ]
  },
  {
   "cell_type": "markdown",
   "id": "760998c0",
   "metadata": {},
   "source": [
    "### ⚡ Train XGBoost"
   ]
  },
  {
   "cell_type": "code",
   "execution_count": 17,
   "id": "6967b629",
   "metadata": {},
   "outputs": [
    {
     "name": "stderr",
     "output_type": "stream",
     "text": [
      "/home/softnut/Desktop/portfolio/bias_detection/.venv/lib/python3.12/site-packages/xgboost/training.py:183: UserWarning: [16:18:57] WARNING: /workspace/src/learner.cc:738: \n",
      "Parameters: { \"use_label_encoder\" } are not used.\n",
      "\n",
      "  bst.update(dtrain, iteration=i, fobj=obj)\n"
     ]
    }
   ],
   "source": [
    "# ⚡ Train XGBoost\n",
    "xgb = XGBClassifier(use_label_encoder=False, eval_metric='logloss')\n",
    "xgb.fit(X_train, y_train)\n",
    "y_pred_xgb = xgb.predict(X_test)"
   ]
  },
  {
   "cell_type": "markdown",
   "id": "f4bafa38",
   "metadata": {},
   "source": [
    "### 📊 Evaluation Function"
   ]
  },
  {
   "cell_type": "code",
   "execution_count": 18,
   "id": "d070e2da",
   "metadata": {},
   "outputs": [],
   "source": [
    "# 📊 Evaluation Function\n",
    "def evaluate_model(name, y_true, y_pred):\n",
    "    print(f\"\\n📋 Model: {name}\")\n",
    "    print(\"Accuracy:\", accuracy_score(y_true, y_pred))\n",
    "    print(\"ROC AUC:\", roc_auc_score(y_true, y_pred))\n",
    "    print(\"Confusion Matrix:\\n\", confusion_matrix(y_true, y_pred))\n",
    "    print(\"Classification Report:\\n\", classification_report(y_true, y_pred))"
   ]
  },
  {
   "cell_type": "markdown",
   "id": "89459fef",
   "metadata": {},
   "source": [
    "### 🧪 Evaluate All Models"
   ]
  },
  {
   "cell_type": "code",
   "execution_count": 19,
   "id": "fad0746f",
   "metadata": {},
   "outputs": [
    {
     "name": "stdout",
     "output_type": "stream",
     "text": [
      "\n",
      "📋 Model: Logistic Regression\n",
      "Accuracy: 0.5619047619047619\n",
      "ROC AUC: 0.5590909090909091\n",
      "Confusion Matrix:\n",
      " [[25 25]\n",
      " [21 34]]\n",
      "Classification Report:\n",
      "               precision    recall  f1-score   support\n",
      "\n",
      "           0       0.54      0.50      0.52        50\n",
      "           1       0.58      0.62      0.60        55\n",
      "\n",
      "    accuracy                           0.56       105\n",
      "   macro avg       0.56      0.56      0.56       105\n",
      "weighted avg       0.56      0.56      0.56       105\n",
      "\n",
      "\n",
      "📋 Model: Random Forest\n",
      "Accuracy: 0.5333333333333333\n",
      "ROC AUC: 0.53\n",
      "Confusion Matrix:\n",
      " [[23 27]\n",
      " [22 33]]\n",
      "Classification Report:\n",
      "               precision    recall  f1-score   support\n",
      "\n",
      "           0       0.51      0.46      0.48        50\n",
      "           1       0.55      0.60      0.57        55\n",
      "\n",
      "    accuracy                           0.53       105\n",
      "   macro avg       0.53      0.53      0.53       105\n",
      "weighted avg       0.53      0.53      0.53       105\n",
      "\n",
      "\n",
      "📋 Model: XGBoost\n",
      "Accuracy: 0.6\n",
      "ROC AUC: 0.5990909090909091\n",
      "Confusion Matrix:\n",
      " [[29 21]\n",
      " [21 34]]\n",
      "Classification Report:\n",
      "               precision    recall  f1-score   support\n",
      "\n",
      "           0       0.58      0.58      0.58        50\n",
      "           1       0.62      0.62      0.62        55\n",
      "\n",
      "    accuracy                           0.60       105\n",
      "   macro avg       0.60      0.60      0.60       105\n",
      "weighted avg       0.60      0.60      0.60       105\n",
      "\n"
     ]
    }
   ],
   "source": [
    "# 🧪 Evaluate All Models\n",
    "evaluate_model(\"Logistic Regression\", y_test, y_pred_lr)\n",
    "evaluate_model(\"Random Forest\", y_test, y_pred_rf)\n",
    "evaluate_model(\"XGBoost\", y_test, y_pred_xgb)"
   ]
  },
  {
   "cell_type": "markdown",
   "id": "dbba2b4a",
   "metadata": {},
   "source": [
    "### 💾 Save Models (optional)"
   ]
  },
  {
   "cell_type": "code",
   "execution_count": 21,
   "id": "4b0db984",
   "metadata": {},
   "outputs": [
    {
     "name": "stdout",
     "output_type": "stream",
     "text": [
      "Models saved in models/.\n"
     ]
    }
   ],
   "source": [
    "# 💾 Save Models (optional)\n",
    "import joblib\n",
    "joblib.dump(lr, 'models/logistic_model.pkl')\n",
    "joblib.dump(rf, 'models/random_forest_model.pkl')\n",
    "joblib.dump(xgb, 'models/xgboost_model.pkl')\n",
    "print('Models saved in models/.')"
   ]
  }
 ],
 "metadata": {
  "kernelspec": {
   "display_name": ".venv",
   "language": "python",
   "name": "python3"
  },
  "language_info": {
   "codemirror_mode": {
    "name": "ipython",
    "version": 3
   },
   "file_extension": ".py",
   "mimetype": "text/x-python",
   "name": "python",
   "nbconvert_exporter": "python",
   "pygments_lexer": "ipython3",
   "version": "3.12.3"
  }
 },
 "nbformat": 4,
 "nbformat_minor": 5
}
